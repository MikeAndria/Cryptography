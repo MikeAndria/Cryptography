{
 "cells": [
  {
   "cell_type": "markdown",
   "id": "52f701ee-a9d7-4cd9-9d92-58329a47255b",
   "metadata": {},
   "source": [
    "# Exercise 3)\n",
    "    We are going to decrypte the message from Alice.\n",
    "    All we have is the Alice's and Bob's public keys noted g_A and g_B.\n",
    "    And the group that they are using K* = (Z/pZ)* with p is prime number.\n",
    "    We also know the generator of this group that they used, noted g\n",
    "\n",
    "    To decrypte each bloc of message (u, v), we need to find the secret key of Bob coz Bob is the receiver. Let's note a this secret key. \n",
    "    We know that, in Elgamal cryptosystem, g^a = g_B over K*. So we need use the algorithm of Silver Pohlig Helmann to resolve this equation. \n",
    "    When we find this secret key, we just need to compute ((u^(-a)%p)*v)%p to find the decrypted message.\n",
    "    To make message readable, we just decode the decrypted message that we found into letter.\n",
    "\n",
    "    Below is the implementation of all algorithm that we need to find the readable message. We are going to use the factorint function from the sympy to factor a large number.\n",
    "    "
   ]
  },
  {
   "cell_type": "code",
   "execution_count": 28,
   "id": "f4a031b0-ad25-4d4f-b466-535eceb04355",
   "metadata": {},
   "outputs": [],
   "source": [
    "from sympy import factorint\n",
    "import math"
   ]
  },
  {
   "cell_type": "markdown",
   "id": "02ef0217-bf0c-477c-8977-973f2b9ba2ca",
   "metadata": {},
   "source": [
    "## Silver Pohlig Helmann"
   ]
  },
  {
   "cell_type": "code",
   "execution_count": 20,
   "id": "ab03cc22-9f2d-46bc-b790-4c1dcf09b514",
   "metadata": {},
   "outputs": [],
   "source": [
    "def silver_pohlig_hellman(g: int, h: int, p: int, n: int) -> int:\n",
    "    \"\"\"\n",
    "        Solve g^x ≡ h mod p for a cyclic group K with order n.\n",
    "        g: generator of K\n",
    "        h: the target value\n",
    "        p: a prime number for modulo calculus\n",
    "        n: the groupe order\n",
    "        Return discret Logarithm x. (dlog_g(h))\n",
    "    \"\"\"\n",
    "    # factor n\n",
    "    factors = factorint(n)\n",
    "\n",
    "    # Modulare solving for each prime factor of n\n",
    "    x_list = []\n",
    "    modulo = []\n",
    "    \n",
    "    for q, e in factors.items():\n",
    "        q_e = q ** e\n",
    "        g_q = pow(g, n // q_e, p) \n",
    "        h_q = pow(h, n // q_e, p)  \n",
    "        \n",
    "        # Resolution over subfield of order q^e\n",
    "        x_q = baby_giant_step(g_q, h_q, q_e, p)\n",
    "        x_list.append(x_q)\n",
    "        modulo.append(q_e)\n",
    "    \n",
    "    # Use the Chinese Remainder Theorem to construct the resultat\n",
    "    x = chinese_remainder_theorem(x_list, modulo)\n",
    "    \n",
    "    return x"
   ]
  },
  {
   "cell_type": "markdown",
   "id": "feddd92d-3a1e-49be-8a30-bfa35edcae16",
   "metadata": {},
   "source": [
    "### Baby and Giand Step"
   ]
  },
  {
   "cell_type": "code",
   "execution_count": 17,
   "id": "77282446-c381-44ab-86cd-6482298c1fa9",
   "metadata": {},
   "outputs": [],
   "source": [
    "def baby_giant_step(g: int, h: int, n: int, p: int) -> int:\n",
    "    \"\"\"\n",
    "    Solve g^x ≡ h mod p.\n",
    "    g: generator of the group\n",
    "    h: the target value\n",
    "    p: a prime number for modulo calculus\n",
    "    n: the groupe order\n",
    "    return: Logarithme discret x.\n",
    "    \"\"\"\n",
    "\n",
    "    m = int(math.ceil(math.sqrt(n)))\n",
    "    A = {}\n",
    "\n",
    "    # Baby step\n",
    "    for j in range(m):\n",
    "        value = pow(g, j, p)\n",
    "        A[value] = j\n",
    "\n",
    "    # Giant step\n",
    "    g_inv_m = pow(g, -m, p) \n",
    "    gamma = h\n",
    "    for i in range(m):\n",
    "        if gamma in A:\n",
    "            return i * m + A[gamma]\n",
    "        gamma = (gamma * g_inv_m) % p\n",
    "\n",
    "    raise ValueError(\"Discret Logarithm not found.\")"
   ]
  },
  {
   "cell_type": "markdown",
   "id": "b221e258-cb69-40af-a7a2-9f8a30e30d8c",
   "metadata": {},
   "source": [
    "### Euclide etendu"
   ]
  },
  {
   "cell_type": "code",
   "execution_count": 29,
   "id": "ec816fdf-07f8-43dd-8c84-8afcfcc53fa1",
   "metadata": {},
   "outputs": [],
   "source": [
    "def euclide(a: int, b: int) -> tuple:\n",
    "    '''\n",
    "        return (r0, u0, v0) such that a*u0 + b*v0 = gcd(a, b) = r0\n",
    "    '''\n",
    "    r0, r1 = a, b\n",
    "    u0, u1 = 1, 0\n",
    "    v0, v1 = 0, 1\n",
    "    \n",
    "    while r1 != 0:\n",
    "        q = r0 // r1\n",
    "        temp = r1\n",
    "        r1 = r0 - q * r1\n",
    "        r0 = temp\n",
    "\n",
    "        utemp = u1\n",
    "        u1 = u0 - q * u1\n",
    "        u0 = utemp\n",
    "        \n",
    "        vtemp = v1\n",
    "        v1 = v0 - q * v1\n",
    "        v0 = vtemp\n",
    "        \n",
    "    return r0, u0, v0"
   ]
  },
  {
   "cell_type": "markdown",
   "id": "173e4187-40d6-457f-a90f-5b086a5ac4fe",
   "metadata": {},
   "source": [
    "### Chinese Remainder Theorem"
   ]
  },
  {
   "cell_type": "code",
   "execution_count": 30,
   "id": "76f605a6-684d-49c9-a5d5-1dd7431e6077",
   "metadata": {},
   "outputs": [],
   "source": [
    "def chinese_remainder_theorem(remainders: list, modulo: list) -> int:\n",
    "    '''\n",
    "        Solve a congruence system\n",
    "        remainders: List of remeinders x_i.\n",
    "        moduli: List of modulos m_i.\n",
    "        Unique solution of x mod M, where M = product(m_i).\n",
    "    '''\n",
    "    x = 0\n",
    "    M = 1\n",
    "    for m in modulo:\n",
    "        M *= m\n",
    "    \n",
    "    for r, m in zip(remainders, modulo):\n",
    "        M_i = M // m\n",
    "        inv = euclide(M_i, m)[1]\n",
    "        x += r * M_i * inv\n",
    "    \n",
    "    return x % M"
   ]
  },
  {
   "cell_type": "code",
   "execution_count": 27,
   "id": "b754f240-57e1-4d23-aed2-3950a1c8c78b",
   "metadata": {},
   "outputs": [
    {
     "data": {
      "text/plain": [
       "True"
      ]
     },
     "execution_count": 27,
     "metadata": {},
     "output_type": "execute_result"
    }
   ],
   "source": [
    "silver_pohlig_hellman(14,87203,75727617328661, 75727617328661-1) == 128405855"
   ]
  },
  {
   "cell_type": "markdown",
   "id": "fa122a1e-61bd-460f-935c-ac631e36af54",
   "metadata": {},
   "source": [
    "### Get secret key of receiver"
   ]
  },
  {
   "cell_type": "code",
   "execution_count": 38,
   "id": "0dfc92a4-a066-4328-b253-dfb710af1c41",
   "metadata": {},
   "outputs": [],
   "source": [
    "def get_secret_key_of_receiver(group: tuple, modulo: int, public_key_of_receiver: int) -> int:\n",
    "    '''\n",
    "        group: (p, g) where p is a prime number and g a generator of the group (Z/pZ)*\n",
    "        modulo: a number for modulo calculus\n",
    "        public_key_of_receiver: the public key of receiver\n",
    "\n",
    "        return the secret key of receiver\n",
    "    '''\n",
    "    p, g = group\n",
    "    g_receiver = public_key_of_receiver\n",
    "    secret_key = silver_pohlig_hellman(g=g, h=g_receiver, p=p, n=modulo)\n",
    "\n",
    "    return secret_key"
   ]
  },
  {
   "cell_type": "markdown",
   "id": "52b340f2-b412-45c7-aa79-695bd55bae3f",
   "metadata": {},
   "source": [
    "### El Gamal decryptage"
   ]
  },
  {
   "cell_type": "code",
   "execution_count": 32,
   "id": "78b51a0f-9ce1-4c66-adb2-270f3d80dd60",
   "metadata": {},
   "outputs": [],
   "source": [
    "def decryptage_El_Gamal(public_key: tuple, secret_key: int, encr_message: tuple) -> int:\n",
    "    ''' public_key: the public key of receiver (p, g, g_receiver)\n",
    "        encr_message: the encrypted message (u, v)\n",
    "        \n",
    "        return: decrypted message\n",
    "    '''\n",
    "    \n",
    "    #Find the secret key of receiver: a\n",
    "    p, g, x = public_key\n",
    "    a = secret_key\n",
    "\n",
    "    #Decryptage\n",
    "    u, v = encr_message\n",
    "    decr_message = (pow(u, -a, p) * v ) % p\n",
    "\n",
    "    return decr_message"
   ]
  },
  {
   "cell_type": "markdown",
   "id": "095917ba-e66f-49f8-855f-f897f0181382",
   "metadata": {},
   "source": [
    "### Decode "
   ]
  },
  {
   "cell_type": "code",
   "execution_count": 33,
   "id": "fbd324e1-75ea-43a3-8a05-9a280f1b9c80",
   "metadata": {},
   "outputs": [],
   "source": [
    "def decode(message: int) -> str:\n",
    "    '''\n",
    "        Decode the encoded message\n",
    "        message: encoded message\n",
    "        Return a decoded message\n",
    "    '''\n",
    "    \n",
    "    conversion = {\n",
    "        '11':'A', \n",
    "        '12':'B',\n",
    "        '13':'C',\n",
    "        '14':'D',\n",
    "        '15':'E',\n",
    "        '16':'F',\n",
    "        '17':'G',\n",
    "        '18':'H',\n",
    "        '19':'I',\n",
    "        '20':'J',\n",
    "        '21':'K',\n",
    "        '22':'L',\n",
    "        '23':'M',\n",
    "        '24':'N',\n",
    "        '25':'O',\n",
    "        '26':'P',\n",
    "        '27':'Q',\n",
    "        '28':'R',\n",
    "        '29':'S',\n",
    "        '30':'T',\n",
    "        '31':'U',\n",
    "        '32':'V',\n",
    "        '33':'W',\n",
    "        '34':'X',\n",
    "        '35':'Y',\n",
    "        '36':'Z',\n",
    "        '41': ' ',\n",
    "        '42': \"'\",\n",
    "        '43': '.',\n",
    "        '44': ',',\n",
    "        '45': '?',\n",
    "    }\n",
    "    message = str(message)\n",
    "    final_message = ''\n",
    "    for i in range(0, len(message)//2):\n",
    "        word = message[2*i]+message[2*i+1]\n",
    "        final_message += conversion.get(word)\n",
    "    return final_message "
   ]
  },
  {
   "cell_type": "markdown",
   "id": "5d098b96-86f2-4d78-a70a-d1a83682f5ef",
   "metadata": {},
   "source": [
    "## General decryptage"
   ]
  },
  {
   "cell_type": "code",
   "execution_count": 34,
   "id": "116be5bf-4f84-471d-90f9-fe422a9f5012",
   "metadata": {},
   "outputs": [],
   "source": [
    "def decryptage_general(group: tuple, public_key: int, secret_key: int, list_message: list) -> str:\n",
    "    '''\n",
    "        group: (p, g) where p is a prime number and g a generator of the group (Z/pZ)*\n",
    "        modulo: a number for modulo calculus\n",
    "        public_key: the public key of receiver \n",
    "        secret_key: the secret key of receiver \n",
    "        list_message: list of crypted message \n",
    "\n",
    "        Return result: complete decoded message\n",
    "    '''\n",
    "    \n",
    "    p, g = group\n",
    "    modulo = p-1\n",
    "    g_receiver = public_key\n",
    "    result = ''\n",
    "    for bloc in list_message:\n",
    "        decr_message = decryptage_El_Gamal(public_key=(p, g, g_receiver), secret_key=secret_key, encr_message=bloc)\n",
    "        result = result + decode(decr_message)\n",
    "    return result"
   ]
  },
  {
   "cell_type": "markdown",
   "id": "1a9b65cc-cf3c-44b7-8fce-c2e22c67fdcd",
   "metadata": {},
   "source": [
    "# Application"
   ]
  },
  {
   "cell_type": "markdown",
   "id": "bab5b3c9-1c63-43a7-bd3e-dbefec3e198e",
   "metadata": {},
   "source": [
    "## Data we have"
   ]
  },
  {
   "cell_type": "code",
   "execution_count": 35,
   "id": "6a51b9dc-463e-424d-8311-bab078ee4a10",
   "metadata": {},
   "outputs": [],
   "source": [
    "m1 = (83025882561049910713, 66740266984208729661)\n",
    "m2 = (117087132399404660932, 44242256035307267278)\n",
    "m3 = (67508282043396028407, 77559274822593376192) \n",
    "m4 = (60938739831689454113, 14528504156719159785)\n",
    "m5 = (5059840044561914427, 59498668430421643612)\n",
    "m6 = (92232942954165956522, 105988641027327945219)\n",
    "m7 = (97102226574752360229, 46166643538418294423)\n",
    "p = 123456789987654353003\n",
    "g = 123456789\n",
    "g_A = 52808579942366933355\n",
    "g_B = 39318628345168608817\n",
    "\n",
    "group = (p, g)\n",
    "public_key = g_B\n",
    "list_message = [m1, m2, m3, m4, m5, m6, m7]"
   ]
  },
  {
   "cell_type": "markdown",
   "id": "a05aca6f-e312-4150-a7af-fd89fefdba14",
   "metadata": {},
   "source": [
    "## Secret key of receiver"
   ]
  },
  {
   "cell_type": "code",
   "execution_count": 39,
   "id": "2064be34-c25d-4cc4-abc2-108e44f4cc46",
   "metadata": {},
   "outputs": [
    {
     "data": {
      "text/plain": [
       "5191"
      ]
     },
     "execution_count": 39,
     "metadata": {},
     "output_type": "execute_result"
    }
   ],
   "source": [
    "secret_key = get_secret_key_of_receiver(group, modulo= p-1, public_key_of_receiver=public_key)\n",
    "secret_key"
   ]
  },
  {
   "cell_type": "markdown",
   "id": "064fc38b-61c5-4367-9296-d3d24305c2da",
   "metadata": {},
   "source": [
    "## The decrypted and decoded message"
   ]
  },
  {
   "cell_type": "code",
   "execution_count": 40,
   "id": "54c5abe0-8488-4c16-a302-d0f2d7919cd4",
   "metadata": {},
   "outputs": [
    {
     "data": {
      "text/plain": [
       "'IN GALOIS FIELDS, FULL OF FLOWERS, PRIMITIVE ELEMENTS DANCE FOR HOURS.'"
      ]
     },
     "execution_count": 40,
     "metadata": {},
     "output_type": "execute_result"
    }
   ],
   "source": [
    "message = decryptage_general(group, public_key, secret_key, list_message)\n",
    "message"
   ]
  },
  {
   "cell_type": "code",
   "execution_count": null,
   "id": "fb72e9c8-5b2d-48a5-a8b5-dd139569ab86",
   "metadata": {},
   "outputs": [],
   "source": []
  }
 ],
 "metadata": {
  "kernelspec": {
   "display_name": "Python 3 (ipykernel)",
   "language": "python",
   "name": "python3"
  },
  "language_info": {
   "codemirror_mode": {
    "name": "ipython",
    "version": 3
   },
   "file_extension": ".py",
   "mimetype": "text/x-python",
   "name": "python",
   "nbconvert_exporter": "python",
   "pygments_lexer": "ipython3",
   "version": "3.12.4"
  }
 },
 "nbformat": 4,
 "nbformat_minor": 5
}
