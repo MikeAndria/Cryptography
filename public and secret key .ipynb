{
 "cells": [
  {
   "cell_type": "markdown",
   "id": "db2e623f-5c5f-4f91-ab34-cdb1e27a519f",
   "metadata": {},
   "source": [
    "    In this exercise, we are to going to create our own public key and private key for Elgamal cryptosystem. \n",
    "    But to create these key we need to find a safe prime number more than 400 digits.\n",
    "    So first we find this number then we can create our public key and secret key.\n",
    "\n",
    "    Were are going to use the Miller Rabin test to test if a candidate q is probably prime then test if p=2*q + 1 is always probably prime.  "
   ]
  },
  {
   "cell_type": "code",
   "execution_count": 104,
   "id": "92a05282-6bd9-4488-b417-fe0111025d84",
   "metadata": {},
   "outputs": [],
   "source": [
    "import random, math, sympy\n",
    "from math import isqrt"
   ]
  },
  {
   "cell_type": "markdown",
   "id": "e26b7b59-2fc7-4a5a-91b2-98bfabf51e5c",
   "metadata": {},
   "source": [
    "## Get the number of bits necessary "
   ]
  },
  {
   "cell_type": "code",
   "execution_count": 105,
   "id": "2db17e39-b22e-44bf-9278-0acc8c57727c",
   "metadata": {},
   "outputs": [],
   "source": [
    "def bits_number(d: int) -> int:\n",
    "    '''\n",
    "        return the number of bits for a number with d digits\n",
    "    '''\n",
    "    log2_10 = math.log2(10)\n",
    "    return math.floor(d * log2_10)"
   ]
  },
  {
   "cell_type": "code",
   "execution_count": 106,
   "id": "6daeb44c-df89-4862-97f8-f9121a2e9d43",
   "metadata": {},
   "outputs": [
    {
     "data": {
      "text/plain": [
       "1328"
      ]
     },
     "execution_count": 106,
     "metadata": {},
     "output_type": "execute_result"
    }
   ],
   "source": [
    "bits_number(400)"
   ]
  },
  {
   "cell_type": "markdown",
   "id": "de3c7fcb-ceb0-49eb-ab8f-83da5361f2db",
   "metadata": {},
   "source": [
    "## Miller Rabin Test"
   ]
  },
  {
   "cell_type": "code",
   "execution_count": 2,
   "id": "5976ea67-1bdd-4867-bdda-770dfd446f40",
   "metadata": {},
   "outputs": [],
   "source": [
    "def miller_rabin(n: int, k=5) -> bool:\n",
    "    ''' Return True if the number is probabily prime and False if it is a composite '''\n",
    "    \n",
    "    if n == 2 or n == 3:\n",
    "        return True\n",
    "    if n <= 1 or n % 2 == 0:\n",
    "        return False\n",
    "        \n",
    "    # Write n-1 as 2^s*d\n",
    "    s, d = 0, n-1\n",
    "    while d%2 == 0:\n",
    "        d //= 2\n",
    "        s += 1\n",
    "\n",
    "    def is_composite(a):\n",
    "        if pow(a, d, n) == 1:\n",
    "            return False\n",
    "        for i in range(s):\n",
    "            if pow(a, 2**i * d, n) == n-1:\n",
    "                return False\n",
    "        return True\n",
    "\n",
    "    # Test \n",
    "    for _ in range(k):\n",
    "        a = random.randrange(2, n-1)\n",
    "        if is_composite(a):\n",
    "            return False\n",
    "\n",
    "    return True\n",
    "\n",
    "\n",
    "def isPrime(n: int) -> bool:\n",
    "    '''\n",
    "        return True if a number n is prime.\n",
    "    '''\n",
    "    small_primes = [2,3,5,7,11,13,17,19,23,29,31,37,41,43,47,53,59,61,67,71,73,79,83,89,97]\n",
    "    if n in small_primes:\n",
    "        return True\n",
    "    if any(n % p == 0 for p in small_primes):\n",
    "        return False\n",
    "    return miller_rabin(n)"
   ]
  },
  {
   "cell_type": "markdown",
   "id": "01be3456-e55a-4364-8905-0d7dbb18132c",
   "metadata": {},
   "source": [
    "## Safe Prime Number"
   ]
  },
  {
   "cell_type": "code",
   "execution_count": 108,
   "id": "fb27ed99-d772-4e4a-9bb2-1dc68a821954",
   "metadata": {},
   "outputs": [],
   "source": [
    "def sieve_of_eratosthenes(limit: int) -> list:\n",
    "    \"\"\"\n",
    "    Generate all prime numbers up to a given limit using the Sieve of Eratosthenes.\n",
    "    \"\"\"\n",
    "    sieve = [True] * (limit + 1)\n",
    "    sieve[0] = sieve[1] = False  # 0 and 1 are not prime\n",
    "    for start in range(2, isqrt(limit) + 1):\n",
    "        if sieve[start]:\n",
    "            for multiple in range(start * start, limit + 1, start):\n",
    "                sieve[multiple] = False\n",
    "    return [num for num, is_prime in enumerate(sieve) if is_prime]\n",
    "\n",
    "def is_divisible(candidate: int, small_primes: list):\n",
    "    \"\"\"\n",
    "    Check if a candidate is divisible by any of the small primes.\n",
    "    \"\"\"\n",
    "    for p in small_primes:\n",
    "        if candidate % p == 0:\n",
    "            return True\n",
    "    return False\n",
    "\n",
    "def generate_safe_prime_number(n: int, small_prime_limit=10000):\n",
    "    \"\"\"\n",
    "    Generate a safe prime number of at least n bits such that p = 2q + 1 and q are both prime.\n",
    "    \"\"\"\n",
    "    # Generate all small primes up to the limit\n",
    "    small_primes = sieve_of_eratosthenes(small_prime_limit)\n",
    "\n",
    "    while True:\n",
    "        # Generate a random candidate q with n-1 bits\n",
    "        q = random.randrange(2**(n - 1), 2**n)\n",
    "        \n",
    "        # Eliminate candidates divisible by small primes\n",
    "        if is_divisible(q, small_primes):\n",
    "            continue\n",
    "\n",
    "        # Test if q is probably prime\n",
    "        if not isPrime(q):\n",
    "            continue\n",
    "\n",
    "        # Compute p = 2q + 1\n",
    "        p = 2 * q + 1\n",
    "\n",
    "        # Test if p is probably prime\n",
    "        if isPrime(p):\n",
    "            return p"
   ]
  },
  {
   "cell_type": "code",
   "execution_count": 109,
   "id": "ee1758f6-c424-4737-9cdb-579f0c85bf3e",
   "metadata": {},
   "outputs": [
    {
     "data": {
      "text/plain": [
       "11137477182687017275715874435161269660442861563519013799203632949546781285414260206149130941197410948559236918524852801438538753593774982445364895410650162670604769349973173963793257813347707746352688685195617505092080317363084174046435011907611423949612667364398981624079643111475547171407643621430748350383508788057962243573553384664768425539880680759065974217603422483841449181599264333954865761479"
      ]
     },
     "execution_count": 109,
     "metadata": {},
     "output_type": "execute_result"
    }
   ],
   "source": [
    "p = generate_safe_prime_number(1328)\n",
    "p"
   ]
  },
  {
   "cell_type": "code",
   "execution_count": 110,
   "id": "6b616994-c846-41a2-8acd-30bdd376efbd",
   "metadata": {},
   "outputs": [
    {
     "data": {
      "text/plain": [
       "5568738591343508637857937217580634830221430781759506899601816474773390642707130103074565470598705474279618459262426400719269376796887491222682447705325081335302384674986586981896628906673853873176344342597808752546040158681542087023217505953805711974806333682199490812039821555737773585703821810715374175191754394028981121786776692332384212769940340379532987108801711241920724590799632166977432880739"
      ]
     },
     "execution_count": 110,
     "metadata": {},
     "output_type": "execute_result"
    }
   ],
   "source": [
    "q = (p-1)//2\n",
    "q"
   ]
  },
  {
   "cell_type": "code",
   "execution_count": 111,
   "id": "dc4c914d-abfa-46a0-b1ae-b7ffb5362034",
   "metadata": {},
   "outputs": [
    {
     "data": {
      "text/plain": [
       "True"
      ]
     },
     "execution_count": 111,
     "metadata": {},
     "output_type": "execute_result"
    }
   ],
   "source": [
    "isPrime(q)"
   ]
  },
  {
   "cell_type": "markdown",
   "id": "9ed25940-ea2c-4f0d-89ae-5af56957e75a",
   "metadata": {},
   "source": [
    "## Public and Secret Keys\n",
    "    Now, we have a safe prime number p more than 400 digits. So we work with the cyclic group G = (Z/pZ)*.\n",
    "    The public keys is g^a such that g is a generator of this group K and a is an element of the group.\n",
    "    Let's find a generator for (Z/pZ)*"
   ]
  },
  {
   "cell_type": "markdown",
   "id": "e96c8858-8c71-41f4-8a5c-8944c8e57724",
   "metadata": {},
   "source": [
    "### Steps to Find a Generator of (Z/pZ)*:\n",
    "\n",
    "1. **Properties of Safe Primes**:\n",
    "   - If p = 2q + 1, where q is prime, then (Z/pZ)* is a cyclic group of order p-1 = 2q.\n",
    "   - The generators are elements g in (Z/pZ)* such that the successive powers of g generate the entire group.\n",
    "\n",
    "2. **Conditions for g to be a Generator**:\n",
    "   - g is a generator of (Z/pZ)* if and only if g^((p-1)/2) is different with 1(modp) for all divisors d of p-1, except p-1.\n",
    "\n",
    "3. **For a Safe Prime p**:\n",
    "   - The divisors of p-1 = 2q are 1, 2, q, and 2q. Thus:\n",
    "     - Verify that g^((p-1)/2) is different with 1(modp) \\not\\equiv 1 \\mod p\\) (to eliminate elements of order 2).\n",
    "     - Verify that g^((p-1)/q) is different with 1(modp)(to eliminate elements of order q)."
   ]
  },
  {
   "cell_type": "code",
   "execution_count": 124,
   "id": "4ce5cb5f-e9e2-4f27-a2ff-6584ceb673f0",
   "metadata": {},
   "outputs": [],
   "source": [
    "def find_generator(p: int) -> int:\n",
    "    \"\"\"\n",
    "    Find a generator of the multiplicative group (Z/pZ)*, where p is a safe prime.\n",
    "    \"\"\"\n",
    "    if p <= 2 or (p - 1) % 2 != 0:\n",
    "        raise ValueError(\"p must be a safe prime, such that p = 2q + 1 where q is prime.\")\n",
    "    \n",
    "    # Compute q such that p = 2q + 1\n",
    "    q = (p - 1) // 2\n",
    "\n",
    "    # Check if q is prime\n",
    "    if not isPrime(q):\n",
    "        raise ValueError(\"p is not a safe prime.\")\n",
    "\n",
    "    # Test random candidates for being a generator\n",
    "    while True:\n",
    "        # Random candidate g in the range [2, p-1]\n",
    "        g = random.randint(2, p - 2)\n",
    "\n",
    "        # Check the generator conditions\n",
    "        if pow(g, (p - 1) // 2, p) != 1 and pow(g, (p - 1) // q, p) != 1:\n",
    "            return g\n"
   ]
  },
  {
   "cell_type": "code",
   "execution_count": 125,
   "id": "2337b111-f705-4f5b-b9f0-25fed592cffe",
   "metadata": {},
   "outputs": [
    {
     "data": {
      "text/plain": [
       "10724962864037742874898186261502114135831287039308933918388402142152292879200680300447536276143528195922420382400455330693856200030895309523187168420489949155667201085919446084125197504776832477044728858111493837562988266763294649159899545227220673566068889568589477119624583488322646947064852037382589582367809595535392010769666038211640867355018361958387945852160890496749721060294247264255959323992"
      ]
     },
     "execution_count": 125,
     "metadata": {},
     "output_type": "execute_result"
    }
   ],
   "source": [
    "g = find_generator(p)\n",
    "g"
   ]
  },
  {
   "cell_type": "code",
   "execution_count": 143,
   "id": "5609358e-64bb-4063-9626-17839fe14e76",
   "metadata": {},
   "outputs": [],
   "source": [
    "def public_and_secret_key(p: int, g: int) -> dict:\n",
    "    ''' p: a prime number for modulos calculus\n",
    "        g: generator of G = (Z/pZ)*\n",
    "        return a dict with key: public_key, secret_key\n",
    "    '''\n",
    "    #order of the cyclic group\n",
    "    n = p-1\n",
    "    \n",
    "    #Generate a secret key\n",
    "    secret_key = random.randrange(2, n)\n",
    "\n",
    "    #Get the public key\n",
    "    public_key = (p, g, pow(g, secret_key, n))\n",
    "\n",
    "    result = {\n",
    "        'public_key': public_key,\n",
    "        'secret_key': secret_key\n",
    "    }\n",
    "    return result"
   ]
  },
  {
   "cell_type": "code",
   "execution_count": 144,
   "id": "b04b1b70-bbe4-437e-964e-d85f48087950",
   "metadata": {},
   "outputs": [],
   "source": [
    "public_key = public_and_secret_key(p, g).get('public_key')\n",
    "secret_key = public_and_secret_key(p, g).get('secret_key')"
   ]
  },
  {
   "cell_type": "code",
   "execution_count": 145,
   "id": "a84575dc-881d-42dc-9623-e68749233d82",
   "metadata": {},
   "outputs": [
    {
     "data": {
      "text/plain": [
       "(11137477182687017275715874435161269660442861563519013799203632949546781285414260206149130941197410948559236918524852801438538753593774982445364895410650162670604769349973173963793257813347707746352688685195617505092080317363084174046435011907611423949612667364398981624079643111475547171407643621430748350383508788057962243573553384664768425539880680759065974217603422483841449181599264333954865761479,\n",
       " 10724962864037742874898186261502114135831287039308933918388402142152292879200680300447536276143528195922420382400455330693856200030895309523187168420489949155667201085919446084125197504776832477044728858111493837562988266763294649159899545227220673566068889568589477119624583488322646947064852037382589582367809595535392010769666038211640867355018361958387945852160890496749721060294247264255959323992,\n",
       " 1599035641831410010544656553514384800423372669777835248893327685103752825805380509810091047901337694439526977331436833403724138615428580001044895264573761178424322401595934960920700117063377912195155526477585991717470532950874127693634149108193551363306398754139057914249279854605829897654241395195471858089439018409200185383919419769482276519551180722697526638746686022498563377498031531053389517424)"
      ]
     },
     "execution_count": 145,
     "metadata": {},
     "output_type": "execute_result"
    }
   ],
   "source": [
    "public_key"
   ]
  },
  {
   "cell_type": "code",
   "execution_count": 146,
   "id": "facd4cf6-1ca6-4d63-a613-e97ee748c7ad",
   "metadata": {},
   "outputs": [
    {
     "data": {
      "text/plain": [
       "6541890871780170598530330343010516454890771624069829222342854498526931504518395967723181493896804397200161908589883259976280597293507145347998155764722695302784424137936656038920970366941369370880945555921609669112253569540505590225153171432570745205281796396233861683365788587381166166095788659069042462384967660614568111229356068578738461883927008073872632606659785649327297947276628087697876385793"
      ]
     },
     "execution_count": 146,
     "metadata": {},
     "output_type": "execute_result"
    }
   ],
   "source": [
    "secret_key"
   ]
  },
  {
   "cell_type": "code",
   "execution_count": null,
   "id": "1d7c0207-017b-41d1-8085-9febe5ed063a",
   "metadata": {},
   "outputs": [],
   "source": []
  }
 ],
 "metadata": {
  "kernelspec": {
   "display_name": "Python 3 (ipykernel)",
   "language": "python",
   "name": "python3"
  },
  "language_info": {
   "codemirror_mode": {
    "name": "ipython",
    "version": 3
   },
   "file_extension": ".py",
   "mimetype": "text/x-python",
   "name": "python",
   "nbconvert_exporter": "python",
   "pygments_lexer": "ipython3",
   "version": "3.12.4"
  }
 },
 "nbformat": 4,
 "nbformat_minor": 5
}
